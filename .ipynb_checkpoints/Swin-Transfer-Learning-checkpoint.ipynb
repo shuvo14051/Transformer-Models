{
 "cells": [
  {
   "cell_type": "code",
   "execution_count": 1,
   "id": "3568dc31",
   "metadata": {},
   "outputs": [
    {
     "data": {
      "text/plain": [
       "<torch._C.Generator at 0x238e3acaf50>"
      ]
     },
     "execution_count": 1,
     "metadata": {},
     "output_type": "execute_result"
    }
   ],
   "source": [
    "import os\n",
    "import torch\n",
    "import torchvision\n",
    "\n",
    "from torch import nn\n",
    "from torchvision import transforms\n",
    "import matplotlib.pyplot as plt\n",
    "\n",
    "\n",
    "torch.manual_seed(42)"
   ]
  },
  {
   "cell_type": "code",
   "execution_count": 2,
   "id": "934402be",
   "metadata": {},
   "outputs": [
    {
     "data": {
      "text/plain": [
       "['parasitized', 'uninfected']"
      ]
     },
     "execution_count": 2,
     "metadata": {},
     "output_type": "execute_result"
    }
   ],
   "source": [
    "base_dir = 'dataset-vit'\n",
    "train_dir = os.path.join(base_dir + '/train')\n",
    "test_dir = os.path.join(base_dir + '/test')\n",
    "os.listdir(test_dir)"
   ]
  },
  {
   "cell_type": "code",
   "execution_count": 3,
   "id": "1b437c27",
   "metadata": {},
   "outputs": [
    {
     "data": {
      "text/plain": [
       "'cpu'"
      ]
     },
     "execution_count": 3,
     "metadata": {},
     "output_type": "execute_result"
    }
   ],
   "source": [
    "device = \"cuda\" if torch.cuda.is_available() else \"cpu\"\n",
    "device"
   ]
  },
  {
   "cell_type": "code",
   "execution_count": 4,
   "id": "305a6791",
   "metadata": {},
   "outputs": [],
   "source": [
    "# 1. Get pretrained weights for Swin Tiny\n",
    "pretrained_swin_weights = torchvision.models.Swin_T_Weights.DEFAULT \n",
    "\n",
    "# 2. Setup a Swin model instance with pretrained weights\n",
    "pretrained_swin = torchvision.models.swin_t().to(device)\n",
    "\n",
    "# 3. Freeze the base parameters\n",
    "for parameter in pretrained_swin.parameters():\n",
    "    parameter.requires_grad = False\n",
    "    \n",
    "class_names = ['parasitized', 'uninfected']\n",
    "pretrained_swin.heads = nn.Linear(in_features=768, out_features=len(class_names)).to(device)"
   ]
  },
  {
   "cell_type": "code",
   "execution_count": 5,
   "id": "d7c7d320",
   "metadata": {},
   "outputs": [
    {
     "data": {
      "text/plain": [
       "=======================================================================================================================================\n",
       "Layer (type (var_name))                                 Input Shape          Output Shape         Param #              Trainable\n",
       "=======================================================================================================================================\n",
       "SwinTransformer (SwinTransformer)                       [32, 3, 224, 224]    [32, 1000]           1,538                Partial\n",
       "├─Sequential (features)                                 [32, 3, 224, 224]    [32, 7, 7, 768]      --                   False\n",
       "│    └─Sequential (0)                                   [32, 3, 224, 224]    [32, 56, 56, 96]     --                   False\n",
       "│    │    └─Conv2d (0)                                  [32, 3, 224, 224]    [32, 96, 56, 56]     (4,704)              False\n",
       "│    │    └─Permute (1)                                 [32, 96, 56, 56]     [32, 56, 56, 96]     --                   --\n",
       "│    │    └─LayerNorm (2)                               [32, 56, 56, 96]     [32, 56, 56, 96]     (192)                False\n",
       "│    └─Sequential (1)                                   [32, 56, 56, 96]     [32, 56, 56, 96]     --                   False\n",
       "│    │    └─SwinTransformerBlock (0)                    [32, 56, 56, 96]     [32, 56, 56, 96]     (112,347)            False\n",
       "│    │    └─SwinTransformerBlock (1)                    [32, 56, 56, 96]     [32, 56, 56, 96]     (112,347)            False\n",
       "│    └─PatchMerging (2)                                 [32, 56, 56, 96]     [32, 28, 28, 192]    --                   False\n",
       "│    │    └─LayerNorm (norm)                            [32, 28, 28, 384]    [32, 28, 28, 384]    (768)                False\n",
       "│    │    └─Linear (reduction)                          [32, 28, 28, 384]    [32, 28, 28, 192]    (73,728)             False\n",
       "│    └─Sequential (3)                                   [32, 28, 28, 192]    [32, 28, 28, 192]    --                   False\n",
       "│    │    └─SwinTransformerBlock (0)                    [32, 28, 28, 192]    [32, 28, 28, 192]    (445,878)            False\n",
       "│    │    └─SwinTransformerBlock (1)                    [32, 28, 28, 192]    [32, 28, 28, 192]    (445,878)            False\n",
       "│    └─PatchMerging (4)                                 [32, 28, 28, 192]    [32, 14, 14, 384]    --                   False\n",
       "│    │    └─LayerNorm (norm)                            [32, 14, 14, 768]    [32, 14, 14, 768]    (1,536)              False\n",
       "│    │    └─Linear (reduction)                          [32, 14, 14, 768]    [32, 14, 14, 384]    (294,912)            False\n",
       "│    └─Sequential (5)                                   [32, 14, 14, 384]    [32, 14, 14, 384]    --                   False\n",
       "│    │    └─SwinTransformerBlock (0)                    [32, 14, 14, 384]    [32, 14, 14, 384]    (1,776,492)          False\n",
       "│    │    └─SwinTransformerBlock (1)                    [32, 14, 14, 384]    [32, 14, 14, 384]    (1,776,492)          False\n",
       "│    │    └─SwinTransformerBlock (2)                    [32, 14, 14, 384]    [32, 14, 14, 384]    (1,776,492)          False\n",
       "│    │    └─SwinTransformerBlock (3)                    [32, 14, 14, 384]    [32, 14, 14, 384]    (1,776,492)          False\n",
       "│    │    └─SwinTransformerBlock (4)                    [32, 14, 14, 384]    [32, 14, 14, 384]    (1,776,492)          False\n",
       "│    │    └─SwinTransformerBlock (5)                    [32, 14, 14, 384]    [32, 14, 14, 384]    (1,776,492)          False\n",
       "│    └─PatchMerging (6)                                 [32, 14, 14, 384]    [32, 7, 7, 768]      --                   False\n",
       "│    │    └─LayerNorm (norm)                            [32, 7, 7, 1536]     [32, 7, 7, 1536]     (3,072)              False\n",
       "│    │    └─Linear (reduction)                          [32, 7, 7, 1536]     [32, 7, 7, 768]      (1,179,648)          False\n",
       "│    └─Sequential (7)                                   [32, 7, 7, 768]      [32, 7, 7, 768]      --                   False\n",
       "│    │    └─SwinTransformerBlock (0)                    [32, 7, 7, 768]      [32, 7, 7, 768]      (7,091,928)          False\n",
       "│    │    └─SwinTransformerBlock (1)                    [32, 7, 7, 768]      [32, 7, 7, 768]      (7,091,928)          False\n",
       "├─LayerNorm (norm)                                      [32, 7, 7, 768]      [32, 7, 7, 768]      (1,536)              False\n",
       "├─Permute (permute)                                     [32, 7, 7, 768]      [32, 768, 7, 7]      --                   --\n",
       "├─AdaptiveAvgPool2d (avgpool)                           [32, 768, 7, 7]      [32, 768, 1, 1]      --                   --\n",
       "├─Flatten (flatten)                                     [32, 768, 1, 1]      [32, 768]            --                   --\n",
       "├─Linear (head)                                         [32, 768]            [32, 1000]           (769,000)            False\n",
       "=======================================================================================================================================\n",
       "Total params: 28,289,892\n",
       "Trainable params: 1,538\n",
       "Non-trainable params: 28,288,354\n",
       "Total mult-adds (G): 1.10\n",
       "=======================================================================================================================================\n",
       "Input size (MB): 19.27\n",
       "Forward/backward pass size (MB): 2928.93\n",
       "Params size (MB): 78.48\n",
       "Estimated Total Size (MB): 3026.68\n",
       "======================================================================================================================================="
      ]
     },
     "execution_count": 5,
     "metadata": {},
     "output_type": "execute_result"
    }
   ],
   "source": [
    "from torchinfo import summary\n",
    "\n",
    "summary(model=pretrained_swin, \n",
    "        input_size=(32, 3, 224, 224), # (batch_size, color_channels, height, width)\n",
    "        # col_names=[\"input_size\"], # uncomment for smaller output\n",
    "        col_names=[\"input_size\", \"output_size\", \"num_params\", \"trainable\"],\n",
    "        col_width=20,\n",
    "        row_settings=[\"var_names\"]\n",
    ")"
   ]
  },
  {
   "cell_type": "code",
   "execution_count": 6,
   "id": "b5ce4df9",
   "metadata": {},
   "outputs": [
    {
     "name": "stdout",
     "output_type": "stream",
     "text": [
      "ImageClassification(\n",
      "    crop_size=[224]\n",
      "    resize_size=[232]\n",
      "    mean=[0.485, 0.456, 0.406]\n",
      "    std=[0.229, 0.224, 0.225]\n",
      "    interpolation=InterpolationMode.BICUBIC\n",
      ")\n"
     ]
    }
   ],
   "source": [
    "pretrained_swin_transforms = pretrained_swin_weights.transforms()\n",
    "print(pretrained_swin_weights)"
   ]
  },
  {
   "cell_type": "code",
   "execution_count": 7,
   "id": "f3fcb2a3",
   "metadata": {},
   "outputs": [],
   "source": [
    "NUM_WORKERS = os.cpu_count()\n",
    "\n",
    "def create_dataloaders(train_dir, test_dir, transform, batch_size, num_workers=NUM_WORKERS):\n",
    "    \n",
    "    #train and test data\n",
    "    train_data = datasets.ImageFolder(train_dir, transform=transform)\n",
    "    test_data = datasets.ImageFolder(test_dir, transform=transform)\n",
    "    \n",
    "    #class names\n",
    "    class_names = train_data.classes\n",
    "    \n",
    "    train_dataloader = DataLoader(train_data, batch_size, shuffle=True, num_workers=NUM_WORKERS, pin_memory=True)\n",
    "    test_dataloader = DataLoader(test_data, batch_size, shuffle=False, num_workers=NUM_WORKERS, pin_memory=True)\n",
    "    \n",
    "    return train_dataloader, test_dataloader, class_names\n",
    "    \n"
   ]
  },
  {
   "cell_type": "code",
   "execution_count": 10,
   "id": "af6f731f",
   "metadata": {},
   "outputs": [],
   "source": [
    "# Setup dataloaders\n",
    "from torchvision import datasets, transforms\n",
    "from torch.utils.data import DataLoader\n",
    "\n",
    "train_dataloader_pretrained, test_dataloader_pretrained, class_names = create_dataloaders(train_dir=train_dir,\n",
    "                                                                                          test_dir=test_dir,\n",
    "                                                                                          transform=pretrained_swin_transforms,\n",
    "                                                                                          batch_size=32) "
   ]
  },
  {
   "cell_type": "code",
   "execution_count": 11,
   "id": "d16d4c2d",
   "metadata": {},
   "outputs": [
    {
     "data": {
      "application/vnd.jupyter.widget-view+json": {
       "model_id": "3101af73e4414c919c5b507eea7589f0",
       "version_major": 2,
       "version_minor": 0
      },
      "text/plain": [
       "  0%|          | 0/5 [00:00<?, ?it/s]"
      ]
     },
     "metadata": {},
     "output_type": "display_data"
    },
    {
     "ename": "RuntimeError",
     "evalue": "element 0 of tensors does not require grad and does not have a grad_fn",
     "output_type": "error",
     "traceback": [
      "\u001b[1;31m---------------------------------------------------------------------------\u001b[0m",
      "\u001b[1;31mRuntimeError\u001b[0m                              Traceback (most recent call last)",
      "Input \u001b[1;32mIn [11]\u001b[0m, in \u001b[0;36m<cell line: 9>\u001b[1;34m()\u001b[0m\n\u001b[0;32m      6\u001b[0m loss_fn \u001b[38;5;241m=\u001b[39m torch\u001b[38;5;241m.\u001b[39mnn\u001b[38;5;241m.\u001b[39mCrossEntropyLoss()\n\u001b[0;32m      8\u001b[0m \u001b[38;5;66;03m# Train the classifier head of the pretrained  feature extractor model\u001b[39;00m\n\u001b[1;32m----> 9\u001b[0m pretrained_swin_results \u001b[38;5;241m=\u001b[39m \u001b[43mengine\u001b[49m\u001b[38;5;241;43m.\u001b[39;49m\u001b[43mtrain\u001b[49m\u001b[43m(\u001b[49m\u001b[43mmodel\u001b[49m\u001b[38;5;241;43m=\u001b[39;49m\u001b[43mpretrained_swin\u001b[49m\u001b[43m,\u001b[49m\n\u001b[0;32m     10\u001b[0m \u001b[43m                                      \u001b[49m\u001b[43mtrain_dataloader\u001b[49m\u001b[38;5;241;43m=\u001b[39;49m\u001b[43mtrain_dataloader_pretrained\u001b[49m\u001b[43m,\u001b[49m\n\u001b[0;32m     11\u001b[0m \u001b[43m                                      \u001b[49m\u001b[43mtest_dataloader\u001b[49m\u001b[38;5;241;43m=\u001b[39;49m\u001b[43mtest_dataloader_pretrained\u001b[49m\u001b[43m,\u001b[49m\n\u001b[0;32m     12\u001b[0m \u001b[43m                                      \u001b[49m\u001b[43moptimizer\u001b[49m\u001b[38;5;241;43m=\u001b[39;49m\u001b[43moptimizer\u001b[49m\u001b[43m,\u001b[49m\n\u001b[0;32m     13\u001b[0m \u001b[43m                                      \u001b[49m\u001b[43mloss_fn\u001b[49m\u001b[38;5;241;43m=\u001b[39;49m\u001b[43mloss_fn\u001b[49m\u001b[43m,\u001b[49m\n\u001b[0;32m     14\u001b[0m \u001b[43m                                      \u001b[49m\u001b[43mepochs\u001b[49m\u001b[38;5;241;43m=\u001b[39;49m\u001b[38;5;241;43m5\u001b[39;49m\u001b[43m,\u001b[49m\n\u001b[0;32m     15\u001b[0m \u001b[43m                                      \u001b[49m\u001b[43mdevice\u001b[49m\u001b[38;5;241;43m=\u001b[39;49m\u001b[43mdevice\u001b[49m\u001b[43m)\u001b[49m\n",
      "File \u001b[1;32mE:\\- Transformer\\going_modular\\going_modular\\engine.py:169\u001b[0m, in \u001b[0;36mtrain\u001b[1;34m(model, train_dataloader, test_dataloader, optimizer, loss_fn, epochs, device)\u001b[0m\n\u001b[0;32m    167\u001b[0m \u001b[38;5;66;03m# Loop through training and testing steps for a number of epochs\u001b[39;00m\n\u001b[0;32m    168\u001b[0m \u001b[38;5;28;01mfor\u001b[39;00m epoch \u001b[38;5;129;01min\u001b[39;00m tqdm(\u001b[38;5;28mrange\u001b[39m(epochs)):\n\u001b[1;32m--> 169\u001b[0m     train_loss, train_acc \u001b[38;5;241m=\u001b[39m \u001b[43mtrain_step\u001b[49m\u001b[43m(\u001b[49m\u001b[43mmodel\u001b[49m\u001b[38;5;241;43m=\u001b[39;49m\u001b[43mmodel\u001b[49m\u001b[43m,\u001b[49m\n\u001b[0;32m    170\u001b[0m \u001b[43m                                      \u001b[49m\u001b[43mdataloader\u001b[49m\u001b[38;5;241;43m=\u001b[39;49m\u001b[43mtrain_dataloader\u001b[49m\u001b[43m,\u001b[49m\n\u001b[0;32m    171\u001b[0m \u001b[43m                                      \u001b[49m\u001b[43mloss_fn\u001b[49m\u001b[38;5;241;43m=\u001b[39;49m\u001b[43mloss_fn\u001b[49m\u001b[43m,\u001b[49m\n\u001b[0;32m    172\u001b[0m \u001b[43m                                      \u001b[49m\u001b[43moptimizer\u001b[49m\u001b[38;5;241;43m=\u001b[39;49m\u001b[43moptimizer\u001b[49m\u001b[43m,\u001b[49m\n\u001b[0;32m    173\u001b[0m \u001b[43m                                      \u001b[49m\u001b[43mdevice\u001b[49m\u001b[38;5;241;43m=\u001b[39;49m\u001b[43mdevice\u001b[49m\u001b[43m)\u001b[49m\n\u001b[0;32m    174\u001b[0m     test_loss, test_acc \u001b[38;5;241m=\u001b[39m test_step(model\u001b[38;5;241m=\u001b[39mmodel,\n\u001b[0;32m    175\u001b[0m       dataloader\u001b[38;5;241m=\u001b[39mtest_dataloader,\n\u001b[0;32m    176\u001b[0m       loss_fn\u001b[38;5;241m=\u001b[39mloss_fn,\n\u001b[0;32m    177\u001b[0m       device\u001b[38;5;241m=\u001b[39mdevice)\n\u001b[0;32m    179\u001b[0m     \u001b[38;5;66;03m# Print out what's happening\u001b[39;00m\n",
      "File \u001b[1;32mE:\\- Transformer\\going_modular\\going_modular\\engine.py:55\u001b[0m, in \u001b[0;36mtrain_step\u001b[1;34m(model, dataloader, loss_fn, optimizer, device)\u001b[0m\n\u001b[0;32m     52\u001b[0m optimizer\u001b[38;5;241m.\u001b[39mzero_grad()\n\u001b[0;32m     54\u001b[0m \u001b[38;5;66;03m# 4. Loss backward\u001b[39;00m\n\u001b[1;32m---> 55\u001b[0m \u001b[43mloss\u001b[49m\u001b[38;5;241;43m.\u001b[39;49m\u001b[43mbackward\u001b[49m\u001b[43m(\u001b[49m\u001b[43m)\u001b[49m\n\u001b[0;32m     57\u001b[0m \u001b[38;5;66;03m# 5. Optimizer step\u001b[39;00m\n\u001b[0;32m     58\u001b[0m optimizer\u001b[38;5;241m.\u001b[39mstep()\n",
      "File \u001b[1;32mc:\\users\\younu\\appdata\\local\\programs\\python\\python39\\lib\\site-packages\\torch\\_tensor.py:487\u001b[0m, in \u001b[0;36mTensor.backward\u001b[1;34m(self, gradient, retain_graph, create_graph, inputs)\u001b[0m\n\u001b[0;32m    477\u001b[0m \u001b[38;5;28;01mif\u001b[39;00m has_torch_function_unary(\u001b[38;5;28mself\u001b[39m):\n\u001b[0;32m    478\u001b[0m     \u001b[38;5;28;01mreturn\u001b[39;00m handle_torch_function(\n\u001b[0;32m    479\u001b[0m         Tensor\u001b[38;5;241m.\u001b[39mbackward,\n\u001b[0;32m    480\u001b[0m         (\u001b[38;5;28mself\u001b[39m,),\n\u001b[1;32m   (...)\u001b[0m\n\u001b[0;32m    485\u001b[0m         inputs\u001b[38;5;241m=\u001b[39minputs,\n\u001b[0;32m    486\u001b[0m     )\n\u001b[1;32m--> 487\u001b[0m \u001b[43mtorch\u001b[49m\u001b[38;5;241;43m.\u001b[39;49m\u001b[43mautograd\u001b[49m\u001b[38;5;241;43m.\u001b[39;49m\u001b[43mbackward\u001b[49m\u001b[43m(\u001b[49m\n\u001b[0;32m    488\u001b[0m \u001b[43m    \u001b[49m\u001b[38;5;28;43mself\u001b[39;49m\u001b[43m,\u001b[49m\u001b[43m \u001b[49m\u001b[43mgradient\u001b[49m\u001b[43m,\u001b[49m\u001b[43m \u001b[49m\u001b[43mretain_graph\u001b[49m\u001b[43m,\u001b[49m\u001b[43m \u001b[49m\u001b[43mcreate_graph\u001b[49m\u001b[43m,\u001b[49m\u001b[43m \u001b[49m\u001b[43minputs\u001b[49m\u001b[38;5;241;43m=\u001b[39;49m\u001b[43minputs\u001b[49m\n\u001b[0;32m    489\u001b[0m \u001b[43m\u001b[49m\u001b[43m)\u001b[49m\n",
      "File \u001b[1;32mc:\\users\\younu\\appdata\\local\\programs\\python\\python39\\lib\\site-packages\\torch\\autograd\\__init__.py:197\u001b[0m, in \u001b[0;36mbackward\u001b[1;34m(tensors, grad_tensors, retain_graph, create_graph, grad_variables, inputs)\u001b[0m\n\u001b[0;32m    192\u001b[0m     retain_graph \u001b[38;5;241m=\u001b[39m create_graph\n\u001b[0;32m    194\u001b[0m \u001b[38;5;66;03m# The reason we repeat same the comment below is that\u001b[39;00m\n\u001b[0;32m    195\u001b[0m \u001b[38;5;66;03m# some Python versions print out the first line of a multi-line function\u001b[39;00m\n\u001b[0;32m    196\u001b[0m \u001b[38;5;66;03m# calls in the traceback and some print out the last line\u001b[39;00m\n\u001b[1;32m--> 197\u001b[0m \u001b[43mVariable\u001b[49m\u001b[38;5;241;43m.\u001b[39;49m\u001b[43m_execution_engine\u001b[49m\u001b[38;5;241;43m.\u001b[39;49m\u001b[43mrun_backward\u001b[49m\u001b[43m(\u001b[49m\u001b[43m  \u001b[49m\u001b[38;5;66;43;03m# Calls into the C++ engine to run the backward pass\u001b[39;49;00m\n\u001b[0;32m    198\u001b[0m \u001b[43m    \u001b[49m\u001b[43mtensors\u001b[49m\u001b[43m,\u001b[49m\u001b[43m \u001b[49m\u001b[43mgrad_tensors_\u001b[49m\u001b[43m,\u001b[49m\u001b[43m \u001b[49m\u001b[43mretain_graph\u001b[49m\u001b[43m,\u001b[49m\u001b[43m \u001b[49m\u001b[43mcreate_graph\u001b[49m\u001b[43m,\u001b[49m\u001b[43m \u001b[49m\u001b[43minputs\u001b[49m\u001b[43m,\u001b[49m\n\u001b[0;32m    199\u001b[0m \u001b[43m    \u001b[49m\u001b[43mallow_unreachable\u001b[49m\u001b[38;5;241;43m=\u001b[39;49m\u001b[38;5;28;43;01mTrue\u001b[39;49;00m\u001b[43m,\u001b[49m\u001b[43m \u001b[49m\u001b[43maccumulate_grad\u001b[49m\u001b[38;5;241;43m=\u001b[39;49m\u001b[38;5;28;43;01mTrue\u001b[39;49;00m\u001b[43m)\u001b[49m\n",
      "\u001b[1;31mRuntimeError\u001b[0m: element 0 of tensors does not require grad and does not have a grad_fn"
     ]
    }
   ],
   "source": [
    "from going_modular.going_modular import engine\n",
    "\n",
    "# Create optimizer and loss function\n",
    "optimizer = torch.optim.Adam(params=pretrained_swin.parameters(), \n",
    "                             lr=1e-3)\n",
    "loss_fn = torch.nn.CrossEntropyLoss()\n",
    "\n",
    "# Train the classifier head of the pretrained  feature extractor model\n",
    "pretrained_swin_results = engine.train(model=pretrained_swin,\n",
    "                                      train_dataloader=train_dataloader_pretrained,\n",
    "                                      test_dataloader=test_dataloader_pretrained,\n",
    "                                      optimizer=optimizer,\n",
    "                                      loss_fn=loss_fn,\n",
    "                                      epochs=5,\n",
    "                                      device=device)"
   ]
  },
  {
   "cell_type": "code",
   "execution_count": null,
   "id": "c6a4e525",
   "metadata": {},
   "outputs": [],
   "source": []
  },
  {
   "cell_type": "code",
   "execution_count": null,
   "id": "00afb858",
   "metadata": {},
   "outputs": [],
   "source": []
  }
 ],
 "metadata": {
  "kernelspec": {
   "display_name": "Python 3 (ipykernel)",
   "language": "python",
   "name": "python3"
  },
  "language_info": {
   "codemirror_mode": {
    "name": "ipython",
    "version": 3
   },
   "file_extension": ".py",
   "mimetype": "text/x-python",
   "name": "python",
   "nbconvert_exporter": "python",
   "pygments_lexer": "ipython3",
   "version": "3.9.6"
  }
 },
 "nbformat": 4,
 "nbformat_minor": 5
}
